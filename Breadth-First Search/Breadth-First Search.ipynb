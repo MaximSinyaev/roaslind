{
 "cells": [
  {
   "cell_type": "code",
   "execution_count": 3,
   "metadata": {},
   "outputs": [],
   "source": [
    "from collections import defaultdict\n",
    "from collections import deque"
   ]
  },
  {
   "cell_type": "code",
   "execution_count": 9,
   "metadata": {},
   "outputs": [],
   "source": [
    "class Graph:\n",
    "    def __init__(self):\n",
    "        self.edges = 0\n",
    "        self.nodes = deque()\n",
    "        self.adj_list = defaultdict(list)\n",
    "        self.dist = defaultdict(int)\n",
    "        \n",
    "    def add_node(self, name):\n",
    "        self.nodes.append(name)\n",
    "        \n",
    "    def add_edge(self, adj):\n",
    "        self.adj_list[adj[0]].append(adj[1])\n",
    "        # if undirected graph use next line\n",
    "#         self.adj_list[adj[1]].append(adj[0])\n",
    "        self.edges += 1\n",
    "    \n",
    "    def dfs(self, node, path=None):\n",
    "        if not path:\n",
    "            path = set()\n",
    "        path.add(node)\n",
    "        for neighbour in self.adj_list[node]:\n",
    "            if neighbour not in path:\n",
    "                self.dfs(neighbour, path)\n",
    "        return path\n",
    "    \n",
    "    def init_weights(self, start=1):\n",
    "        for node in self.nodes:\n",
    "            self.dist[node] = self.edges + 1\n",
    "        self.dist[start] = 0\n",
    "    \n",
    "    def bfs(self, start=1):\n",
    "        query = deque()\n",
    "        query.append(start)\n",
    "        self.init_weights()\n",
    "        while len(query):\n",
    "            node = query.popleft()\n",
    "            for neigh in self.adj_list[node]:\n",
    "                if self.dist[neigh] == self.edges + 1:\n",
    "                    query.append(neigh)\n",
    "                    self.dist[neigh] = self.dist[node] + 1\n",
    "                \n",
    "    \n",
    "    def find_subgraphs(self):\n",
    "        pathes = list()\n",
    "        visited_nodes = set()\n",
    "        for node in self.nodes:\n",
    "            if node not in visited_nodes:\n",
    "                pathes.append(self.dfs(node))\n",
    "                visited_nodes |= pathes[-1]\n",
    "        return pathes\n",
    "    \n",
    "    def __repr__(self):\n",
    "        output = \"Graph adj list:\\n\"\n",
    "        for node in self.nodes:\n",
    "            output += f\">{node}: {self.adj_list[node]}\\n\"\n",
    "        return output"
   ]
  },
  {
   "cell_type": "code",
   "execution_count": 14,
   "metadata": {},
   "outputs": [],
   "source": [
    "g = Graph()\n",
    "with open('./rosalind_bfs.txt', 'r') as f:\n",
    "    n, e = map(int, f.readline().split())\n",
    "    for i in range(1, n + 1):\n",
    "        g.add_node(i)\n",
    "    for line in f:\n",
    "        g.add_edge([int(_) for _ in line.split()])"
   ]
  },
  {
   "cell_type": "code",
   "execution_count": 15,
   "metadata": {},
   "outputs": [
    {
     "name": "stdout",
     "output_type": "stream",
     "text": [
      "0 6 8 6 8 3 6 5 7 7 5 7 -1 5 5 4 6 8 9 7 8 6 -1 5 8 5 7 4 6 7 6 7 5 6 5 6 5 6 7 -1 8 7 7 6 5 5 8 7 5 5 5 5 5 4 6 7 6 6 7 6 6 7 5 9 5 8 7 9 6 3 7 7 6 5 6 7 7 7 9 6 7 7 6 6 6 6 8 8 7 7 7 5 4 5 6 5 3 7 8 5 9 7 7 7 6 6 8 5 7 6 7 4 7 8 6 8 8 7 8 4 4 7 4 6 6 7 7 7 5 -1 8 7 6 8 -1 7 7 -1 6 9 8 5 8 6 4 6 6 7 7 10 7 4 6 7 7 9 8 8 7 7 6 6 7 7 7 9 6 5 3 6 4 7 7 4 8 7 6 7 4 6 7 3 6 7 4 8 6 7 6 7 7 5 7 6 7 7 8 6 8 7 5 4 8 7 7 -1 6 8 7 5 7 6 4 6 6 10 8 4 8 7 7 -1 7 6 7 8 -1 5 7 4 8 4 7 6 5 7 7 6 9 7 7 7 3 6 -1 6 8 8 6 6 5 7 -1 7 7 7 7 7 7 6 6 9 7 6 6 5 7 6 8 5 6 4 8 5 8 8 7 8 7 8 8 6 9 6 7 8 7 -1 7 9 8 5 6 8 5 7 6 8 7 -1 5 8 2 6 5 8 7 7 7 5 7 3 7 5 7 7 6 6 5 8 8 6 7 5 8 6 7 9 8 7 5 8 5 10 7 4 6 6 8 3 6 4 6 2 8 5 4 6 7 4 4 6 6 2 8 -1 7 7 7 8 5 7 6 5 8 6 7 6 7 7 -1 7 5 -1 4 7 7 -1 6 6 7 7 7 5 6 8 7 7 9 6 6 7 6 8 5 9 6 8 5 6 7 6 7 7 6 7 7 5 6 4 8 6 7 10 8 8 6 5 8 7 7 7 3 7 7 7 6 6 6 8 8 5 5 8 8 7 -1 8 8 7 -1 5 7 8 7 7 8 6 8 8 2 7 7 7 8 6 4 5 6 1 8 6 7 7 6 1 8 3 6 7 6 8 4 6 6 7 5 7 7 7 8 8 6 6 6 7 6 8 7 7 9 8 7 3 8 4 5 6 8 4 6 6 7 7 7 7 6 5 6 4 6 7 8 -1 7 6 4 7 6 7 7 7 6 8 6 6 5 5 5 -1 5 5 7 6 5 7 7 7 7 6 3 7 4 7 -1 4 6 6 6 4 6 7 7 7 4 -1 2 6 7 6 4 6 6 6 3 6 7 5 7 6 6 7 7 5 7 8 6 5 9 7 5 6 6 6 6 5 5 9 5 6 7 6 6 7 4 6 5 6 5 7 7 7 1 6 6 8 7 -1 6 7 5 7 6 6 8 7 7 6 5 7 6 6 5 7 8 7 6 6 -1 7 7 6 6 9 8 7 9 7 7 7 6 6 3 8 4 2 6 6 8 5 7 8 5 8 7 5 6 6 7 9 8 6 7 7 6 7 4 4 3 6 -1 -1 6 6 -1 7 7 6 7 5 -1 4 6 9 7 7 6 6 7 6 7 8 7 7 6 7 5 8 8 4 -1 7 8 -1 8 7 -1 7 5 6 7 4 8 8 3 8 6 -1 6 5 5 6 6 -1 7 8 7 6 7 6 7 7 6 7 6 9 8 5 7 -1 7 8 7 8 6 5 8 8 6 5 7 7 8 7 6 7 7 -1 5 6 5 8 -1 6 10 6 7 8 6 10 6 6 7 7 8 7 6 7 7 6 7 5 6 6 7 6 7 5 8 8 7 4 5 7 6 7 7 6 6 -1 6 7 6 7 8 7 -1 5 6 6 7 7 8 6 5 7 8 7 8 5 4 7 -1 6 "
     ]
    }
   ],
   "source": [
    "g.bfs()\n",
    "for node in g.dist:\n",
    "    print(g.dist[node] if g.dist[node] != g.edges + 1 else -1, end=' ')"
   ]
  }
 ],
 "metadata": {
  "kernelspec": {
   "display_name": "Python 3",
   "language": "python",
   "name": "python3"
  },
  "language_info": {
   "codemirror_mode": {
    "name": "ipython",
    "version": 3
   },
   "file_extension": ".py",
   "mimetype": "text/x-python",
   "name": "python",
   "nbconvert_exporter": "python",
   "pygments_lexer": "ipython3",
   "version": "3.7.4"
  }
 },
 "nbformat": 4,
 "nbformat_minor": 2
}
