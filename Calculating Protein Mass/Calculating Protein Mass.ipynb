{
 "cells": [
  {
   "cell_type": "code",
   "execution_count": 1,
   "metadata": {},
   "outputs": [],
   "source": [
    "from collections import defaultdict"
   ]
  },
  {
   "cell_type": "code",
   "execution_count": 4,
   "metadata": {},
   "outputs": [],
   "source": [
    "protein_mass = defaultdict(float)\n",
    "with open('./monoisotopic_mass_table.txt', 'r') as f:\n",
    "    for line in f:\n",
    "        protein = line.replace('\\n', '').split()\n",
    "        protein_mass[protein[0]] = float(protein[1])\n"
   ]
  },
  {
   "cell_type": "code",
   "execution_count": 5,
   "metadata": {},
   "outputs": [
    {
     "data": {
      "text/plain": [
       "defaultdict(float,\n",
       "            {'A': 71.03711,\n",
       "             'C': 103.00919,\n",
       "             'D': 115.02694,\n",
       "             'E': 129.04259,\n",
       "             'F': 147.06841,\n",
       "             'G': 57.02146,\n",
       "             'H': 137.05891,\n",
       "             'I': 113.08406,\n",
       "             'K': 128.09496,\n",
       "             'L': 113.08406,\n",
       "             'M': 131.04049,\n",
       "             'N': 114.04293,\n",
       "             'P': 97.05276,\n",
       "             'Q': 128.05858,\n",
       "             'R': 156.10111,\n",
       "             'S': 87.03203,\n",
       "             'T': 101.04768,\n",
       "             'V': 99.06841,\n",
       "             'W': 186.07931,\n",
       "             'Y': 163.06333})"
      ]
     },
     "execution_count": 5,
     "metadata": {},
     "output_type": "execute_result"
    }
   ],
   "source": [
    "protein_mass"
   ]
  },
  {
   "cell_type": "code",
   "execution_count": 10,
   "metadata": {},
   "outputs": [],
   "source": [
    "with open('./rosalind_prtm.txt', 'r') as f:\n",
    "    proteins = f.read().strip().replace('\\n', '')\n",
    "    sum = 0.\n",
    "    for prot in proteins:\n",
    "        sum += protein_mass[prot]"
   ]
  },
  {
   "cell_type": "code",
   "execution_count": 11,
   "metadata": {},
   "outputs": [
    {
     "data": {
      "text/plain": [
       "116989.428"
      ]
     },
     "execution_count": 11,
     "metadata": {},
     "output_type": "execute_result"
    }
   ],
   "source": [
    "round(sum, 3)"
   ]
  },
  {
   "cell_type": "code",
   "execution_count": null,
   "metadata": {},
   "outputs": [],
   "source": []
  }
 ],
 "metadata": {
  "kernelspec": {
   "display_name": "Python 3",
   "language": "python",
   "name": "python3"
  },
  "language_info": {
   "codemirror_mode": {
    "name": "ipython",
    "version": 3
   },
   "file_extension": ".py",
   "mimetype": "text/x-python",
   "name": "python",
   "nbconvert_exporter": "python",
   "pygments_lexer": "ipython3",
   "version": "3.7.3"
  }
 },
 "nbformat": 4,
 "nbformat_minor": 2
}
