{
 "cells": [
  {
   "cell_type": "code",
   "execution_count": 69,
   "metadata": {},
   "outputs": [],
   "source": [
    "import re\n",
    "from collections import defaultdict\n",
    "import requests"
   ]
  },
  {
   "cell_type": "code",
   "execution_count": 84,
   "metadata": {},
   "outputs": [],
   "source": [
    "n_glycosylation_motif_regexp = r'(?=(N[^P][ST][^P]))'"
   ]
  },
  {
   "cell_type": "code",
   "execution_count": 3,
   "metadata": {},
   "outputs": [],
   "source": [
    "url = \"http://www.uniprot.org/uniprot/{id}.fasta\""
   ]
  },
  {
   "cell_type": "code",
   "execution_count": 54,
   "metadata": {},
   "outputs": [],
   "source": [
    "req = requests.get(url.format(id='B5ZC00'))"
   ]
  },
  {
   "cell_type": "code",
   "execution_count": 41,
   "metadata": {},
   "outputs": [
    {
     "ename": "AttributeError",
     "evalue": "'str' object has no attribute 'text'",
     "output_type": "error",
     "traceback": [
      "\u001b[0;31m---------------------------------------------------------------------------\u001b[0m",
      "\u001b[0;31mAttributeError\u001b[0m                            Traceback (most recent call last)",
      "\u001b[0;32m<ipython-input-41-5d5b3899c07f>\u001b[0m in \u001b[0;36m<module>\u001b[0;34m\u001b[0m\n\u001b[0;32m----> 1\u001b[0;31m \u001b[0mans\u001b[0m\u001b[0;34m.\u001b[0m\u001b[0mtext\u001b[0m\u001b[0;34m.\u001b[0m\u001b[0msplit\u001b[0m\u001b[0;34m(\u001b[0m\u001b[0;34m'\\n'\u001b[0m\u001b[0;34m)\u001b[0m\u001b[0;34m\u001b[0m\u001b[0;34m\u001b[0m\u001b[0m\n\u001b[0m",
      "\u001b[0;31mAttributeError\u001b[0m: 'str' object has no attribute 'text'"
     ]
    }
   ],
   "source": [
    "ans.text.split('\\n')"
   ]
  },
  {
   "cell_type": "code",
   "execution_count": 55,
   "metadata": {},
   "outputs": [],
   "source": [
    "ans = req.text.split('\\n')\n",
    "ans = ''.join(ans[1:])\n",
    "entrance = re.findall(n_glycosylation_motif_regexp, ans)"
   ]
  },
  {
   "cell_type": "code",
   "execution_count": 56,
   "metadata": {},
   "outputs": [
    {
     "data": {
      "text/plain": [
       "'MKNKFKTQEELVNHLKTVGFVFANSEIYNGLANAWDYGPLGVLLKNNLKNLWWKEFVTKQKDVVGLDSAIILNPLVWKASGHLDNFSDPLIDCKNCKARYRADKLIESFDENIHIAENSSNEEFAKVLNDYEISCPTCKQFNWTEIRHFNLMFKTYQGVIEDAKNVVYLRPETAQGIFVNFKNVQRSMRLHLPFGIAQIGKSFRNEITPGNFIFRTREFEQMEIEFFLKEESAYDIFDKYLNQIENWLVSACGLSLNNLRKHEHPKEELSHYSKKTIDFEYNFLHGFSELYGIAYRTNYDLSVHMNLSKKDLTYFDEQTKEKYVPHVIEPSVGVERLLYAILTEATFIEKLENDDERILMDLKYDLAPYKIAVMPLVNKLKDKAEEIYGKILDLNISATFDNSGSIGKRYRRQDAIGTIYCLTIDFDSLDDQQDPSFTIRERNSMAQKRIKLSELPLYLNQKAHEDFQRQCQK'"
      ]
     },
     "execution_count": 56,
     "metadata": {},
     "output_type": "execute_result"
    }
   ],
   "source": [
    "ans"
   ]
  },
  {
   "cell_type": "code",
   "execution_count": 57,
   "metadata": {},
   "outputs": [
    {
     "name": "stdout",
     "output_type": "stream",
     "text": [
      "84\n",
      "117\n",
      "141\n",
      "305\n",
      "394\n"
     ]
    }
   ],
   "source": [
    "for i in re.finditer(n_glycosylation_motif_regexp, ans):\n",
    "    print(i.start())"
   ]
  },
  {
   "cell_type": "code",
   "execution_count": 60,
   "metadata": {},
   "outputs": [
    {
     "name": "stdout",
     "output_type": "stream",
     "text": [
      "True\n"
     ]
    }
   ],
   "source": [
    "if re.search(n_glycosylation_motif_regexp, ans):\n",
    "    print(True)"
   ]
  },
  {
   "cell_type": "code",
   "execution_count": 89,
   "metadata": {},
   "outputs": [],
   "source": [
    "protein_motif = defaultdict(list)\n",
    "with open('./rosalind_mprt.txt', 'r') as f:\n",
    "    for line in f:\n",
    "        line = line.replace('\\n', '')\n",
    "        req = requests.get(url.format(id=line))\n",
    "        ans = req.text.split('\\n')\n",
    "        ans = ''.join(ans[1:])\n",
    "        entrance = re.search(n_glycosylation_motif_regexp, ans)\n",
    "        protein_motif[line]\n",
    "        if entrance:\n",
    "            for match in re.finditer(\n",
    "                n_glycosylation_motif_regexp, ans):\n",
    "                protein_motif[line].append(match.start())\n",
    "#         print(entrance)"
   ]
  },
  {
   "cell_type": "code",
   "execution_count": 90,
   "metadata": {},
   "outputs": [
    {
     "name": "stdout",
     "output_type": "stream",
     "text": [
      "defaultdict(<class 'list'>, {'P19823_ITH2_HUMAN': [117, 444], 'A7Y3H6': [], 'A9M5H3': [132], 'Q3BN23': [], 'Q181G8': [12, 221, 282], 'Q3BRP8': [], 'A6LJ74': [], 'Q3B391': [237], 'P07359_GPBA_HUMAN': [36, 174, 361, 397], 'P01046_KNL1_BOVIN': [46, 86, 167, 168, 196, 203], 'P55067_PGCN_RAT': [120, 338, 736, 966, 1163], 'B6DCT5': [], 'Q0TMT1': [], 'P19246_NFH_MOUSE': [119]})\n"
     ]
    }
   ],
   "source": [
    "print(protein_motif)"
   ]
  },
  {
   "cell_type": "code",
   "execution_count": 91,
   "metadata": {},
   "outputs": [
    {
     "name": "stdout",
     "output_type": "stream",
     "text": [
      "P19823_ITH2_HUMAN\n",
      "118 445\n",
      "A9M5H3\n",
      "133\n",
      "Q181G8\n",
      "13 222 283\n",
      "Q3B391\n",
      "238\n",
      "P07359_GPBA_HUMAN\n",
      "37 175 362 398\n",
      "P01046_KNL1_BOVIN\n",
      "47 87 168 169 197 204\n",
      "P55067_PGCN_RAT\n",
      "121 339 737 967 1164\n",
      "P19246_NFH_MOUSE\n",
      "120\n"
     ]
    }
   ],
   "source": [
    "for protein in protein_motif:\n",
    "    if protein_motif[protein]:\n",
    "        print(protein)\n",
    "        if len(protein_motif[protein]) > 1:\n",
    "            print(*[x + 1 for x  in protein_motif[protein][:-1]], end=' ')\n",
    "        print(protein_motif[protein][-1] + 1)"
   ]
  },
  {
   "cell_type": "code",
   "execution_count": 87,
   "metadata": {},
   "outputs": [],
   "source": [
    "ans='MKNKFKTQEELVNHLKTVGFVFANSEIYNGLANAWDYGPLGVLLKNNLKNLWWKEFVTKQKDVVGLDSAIILNPLVWKASGHLDNFSDPLIDCKNCKARYRADKLIESFDENIHIAENSSNEEFAKVLNDYEISCPTCKQFNWTEIRHFNLMFKTYQGVIEDAKNVVYLRPETAQGIFVNFKNVQRSMRLHLPFGIAQIGKSFRNEITPGNFIFRTREFEQMEIEFFLKEESAYDIFDKYLNQIENWLVSACGLSLNNLRKHEHPKEELSHYSKKTIDFEYNFLHGFSELYGIAYRTNYDLSVHMNLSKKDLTYFDEQTKEKYVPHVIEPSVGVERLLYAILTEATFIEKLENDDERILMDLKYDLAPYKNNSSAVMPLVNKLKDKAEEIYGKILDLNISATFDNSGSIGKRYRRQDAIGTIYCLTIDFDSLDDQQDPSFTIRERNSMAQKRIKLSELPLYLNQKAHEDFQRQCQK'"
   ]
  },
  {
   "cell_type": "code",
   "execution_count": 88,
   "metadata": {},
   "outputs": [
    {
     "name": "stdout",
     "output_type": "stream",
     "text": [
      "<re.Match object; span=(84, 84), match=''>\n",
      "<re.Match object; span=(117, 117), match=''>\n",
      "<re.Match object; span=(141, 141), match=''>\n",
      "<re.Match object; span=(305, 305), match=''>\n",
      "<re.Match object; span=(370, 370), match=''>\n",
      "<re.Match object; span=(371, 371), match=''>\n",
      "<re.Match object; span=(397, 397), match=''>\n"
     ]
    }
   ],
   "source": [
    "for match in re.finditer(\n",
    "                n_glycosylation_motif_regexp, ans):\n",
    "    print(match)\n"
   ]
  }
 ],
 "metadata": {
  "kernelspec": {
   "display_name": "Python 3",
   "language": "python",
   "name": "python3"
  },
  "language_info": {
   "codemirror_mode": {
    "name": "ipython",
    "version": 3
   },
   "file_extension": ".py",
   "mimetype": "text/x-python",
   "name": "python",
   "nbconvert_exporter": "python",
   "pygments_lexer": "ipython3",
   "version": "3.7.3"
  }
 },
 "nbformat": 4,
 "nbformat_minor": 2
}
